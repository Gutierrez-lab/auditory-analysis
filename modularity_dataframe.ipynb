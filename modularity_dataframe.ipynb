{
 "cells": [
  {
   "cell_type": "markdown",
   "metadata": {},
   "source": [
    "# Pull in clustering data and make a readable dataframe from it"
   ]
  },
  {
   "cell_type": "code",
   "execution_count": 2,
   "metadata": {},
   "outputs": [],
   "source": [
    "import pandas as pd\n",
    "import numpy as np"
   ]
  },
  {
   "cell_type": "code",
   "execution_count": 3,
   "metadata": {},
   "outputs": [
    {
     "data": {
      "text/html": [
       "<div>\n",
       "<style scoped>\n",
       "    .dataframe tbody tr th:only-of-type {\n",
       "        vertical-align: middle;\n",
       "    }\n",
       "\n",
       "    .dataframe tbody tr th {\n",
       "        vertical-align: top;\n",
       "    }\n",
       "\n",
       "    .dataframe thead th {\n",
       "        text-align: right;\n",
       "    }\n",
       "</style>\n",
       "<table border=\"1\" class=\"dataframe\">\n",
       "  <thead>\n",
       "    <tr style=\"text-align: right;\">\n",
       "      <th></th>\n",
       "      <th>id</th>\n",
       "      <th>0.0</th>\n",
       "    </tr>\n",
       "  </thead>\n",
       "  <tbody>\n",
       "    <tr>\n",
       "      <th>0</th>\n",
       "      <td>720575940600433181</td>\n",
       "      <td>1</td>\n",
       "    </tr>\n",
       "    <tr>\n",
       "      <th>1</th>\n",
       "      <td>720575940600646173</td>\n",
       "      <td>1</td>\n",
       "    </tr>\n",
       "    <tr>\n",
       "      <th>2</th>\n",
       "      <td>720575940602120928</td>\n",
       "      <td>2</td>\n",
       "    </tr>\n",
       "    <tr>\n",
       "      <th>3</th>\n",
       "      <td>720575940602132509</td>\n",
       "      <td>1</td>\n",
       "    </tr>\n",
       "    <tr>\n",
       "      <th>4</th>\n",
       "      <td>720575940602309600</td>\n",
       "      <td>1</td>\n",
       "    </tr>\n",
       "    <tr>\n",
       "      <th>...</th>\n",
       "      <td>...</td>\n",
       "      <td>...</td>\n",
       "    </tr>\n",
       "    <tr>\n",
       "      <th>21937</th>\n",
       "      <td>720575940661321857</td>\n",
       "      <td>1</td>\n",
       "    </tr>\n",
       "    <tr>\n",
       "      <th>21938</th>\n",
       "      <td>720575940661325697</td>\n",
       "      <td>12</td>\n",
       "    </tr>\n",
       "    <tr>\n",
       "      <th>21939</th>\n",
       "      <td>720575940661329281</td>\n",
       "      <td>6</td>\n",
       "    </tr>\n",
       "    <tr>\n",
       "      <th>21940</th>\n",
       "      <td>720575940661335681</td>\n",
       "      <td>3</td>\n",
       "    </tr>\n",
       "    <tr>\n",
       "      <th>21941</th>\n",
       "      <td>720575940661338497</td>\n",
       "      <td>5</td>\n",
       "    </tr>\n",
       "  </tbody>\n",
       "</table>\n",
       "<p>21942 rows × 2 columns</p>\n",
       "</div>"
      ],
      "text/plain": [
       "                       id  0.0\n",
       "0      720575940600433181    1\n",
       "1      720575940600646173    1\n",
       "2      720575940602120928    2\n",
       "3      720575940602132509    1\n",
       "4      720575940602309600    1\n",
       "...                   ...  ...\n",
       "21937  720575940661321857    1\n",
       "21938  720575940661325697   12\n",
       "21939  720575940661329281    6\n",
       "21940  720575940661335681    3\n",
       "21941  720575940661338497    5\n",
       "\n",
       "[21942 rows x 2 columns]"
      ]
     },
     "execution_count": 3,
     "metadata": {},
     "output_type": "execute_result"
    }
   ],
   "source": [
    "mod = pd.read_csv(\"clustering_result.txt\", sep=\" \", header=None)\n",
    "mod.rename(columns={0: \"id\", 1: \"0.0\"}, inplace=True)\n",
    "mod"
   ]
  },
  {
   "cell_type": "code",
   "execution_count": 8,
   "metadata": {},
   "outputs": [
    {
     "data": {
      "text/plain": [
       "0.0\n",
       "1     4686\n",
       "2     3823\n",
       "3     3691\n",
       "4      513\n",
       "5     2562\n",
       "6      551\n",
       "7     1696\n",
       "8     4113\n",
       "9        7\n",
       "10       2\n",
       "11      18\n",
       "12     186\n",
       "13       2\n",
       "14      14\n",
       "15       2\n",
       "16       7\n",
       "17       5\n",
       "18       2\n",
       "19       2\n",
       "20       3\n",
       "21       4\n",
       "22       2\n",
       "23       2\n",
       "24       2\n",
       "25       3\n",
       "26       2\n",
       "27       2\n",
       "28       2\n",
       "29       2\n",
       "30       2\n",
       "31       2\n",
       "32       2\n",
       "33       2\n",
       "34       2\n",
       "35       2\n",
       "36       3\n",
       "37       2\n",
       "38       2\n",
       "39       2\n",
       "40       2\n",
       "41       2\n",
       "42       2\n",
       "43       2\n",
       "44       2\n",
       "45       3\n",
       "46       2\n",
       "Name: count, dtype: int64"
      ]
     },
     "execution_count": 8,
     "metadata": {},
     "output_type": "execute_result"
    }
   ],
   "source": [
    "# Clusters the modularity found\n",
    "mod['0.0'].value_counts().sort_index()"
   ]
  },
  {
   "cell_type": "code",
   "execution_count": null,
   "metadata": {},
   "outputs": [],
   "source": []
  }
 ],
 "metadata": {
  "kernelspec": {
   "display_name": "fbl",
   "language": "python",
   "name": "python3"
  },
  "language_info": {
   "codemirror_mode": {
    "name": "ipython",
    "version": 3
   },
   "file_extension": ".py",
   "mimetype": "text/x-python",
   "name": "python",
   "nbconvert_exporter": "python",
   "pygments_lexer": "ipython3",
   "version": "3.12.4"
  }
 },
 "nbformat": 4,
 "nbformat_minor": 2
}
